{
 "cells": [
  {
   "cell_type": "markdown",
   "metadata": {},
   "source": [
    "# Day-Averaged Yearly files\n",
    "\n",
    "The average (mean) of energy consumed in a day is calculated for per season then appended together"
   ]
  },
  {
   "cell_type": "code",
   "execution_count": 12,
   "metadata": {},
   "outputs": [],
   "source": [
    "import polars as pl\n",
    "import glob\n",
    "import re\n",
    "from pathlib import Path\n",
    "import os"
   ]
  },
  {
   "cell_type": "code",
   "execution_count": 13,
   "metadata": {},
   "outputs": [],
   "source": [
    "import polars as pl\n",
    "from datetime import datetime\n",
    "\n",
    "# Define seasonal timestamp ranges\n",
    "season_ranges = {\n",
    "    \"spring\": pl.datetime_range(datetime(2021, 3, 1), datetime(2021, 5, 31), \"1d\", eager=True).cast(pl.Date),\n",
    "    \"summer\": pl.datetime_range(datetime(2021, 6, 1), datetime(2021, 8, 31), \"1d\", eager=True).cast(pl.Date),\n",
    "    \"autumn\": pl.datetime_range(datetime(2021, 9, 1), datetime(2021, 11, 30), \"1d\", eager=True).cast(pl.Date),\n",
    "    \"winter\": pl.datetime_range(datetime(2021, 12, 1), datetime(2022, 2, 28), \"1d\", eager=True).cast(pl.Date)\n",
    "}"
   ]
  },
  {
   "cell_type": "code",
   "execution_count": 14,
   "metadata": {},
   "outputs": [
    {
     "name": "stdout",
     "output_type": "stream",
     "text": [
      "['C:\\\\Users\\\\pana\\\\Desktop\\\\DATA\\\\ckw\\\\2021\\\\spring\\\\0_spring_data.csv', 'C:\\\\Users\\\\pana\\\\Desktop\\\\DATA\\\\ckw\\\\2021\\\\spring\\\\10000_spring_data.csv', 'C:\\\\Users\\\\pana\\\\Desktop\\\\DATA\\\\ckw\\\\2021\\\\spring\\\\10001_spring_data.csv', 'C:\\\\Users\\\\pana\\\\Desktop\\\\DATA\\\\ckw\\\\2021\\\\spring\\\\10002_spring_data.csv', 'C:\\\\Users\\\\pana\\\\Desktop\\\\DATA\\\\ckw\\\\2021\\\\spring\\\\10003_spring_data.csv']\n"
     ]
    }
   ],
   "source": [
    "#load spring files first\n",
    "# Function to extract numeric part from file name\n",
    "season= \"spring\"\n",
    "timestamp_range = season_ranges[season]\n",
    "\n",
    "def extract_numeric_part(file_path):\n",
    "    match = re.search(rf'(\\d+)_{season}_data\\.csv', file_path)\n",
    "    if match:\n",
    "        return int(match.group(1))\n",
    "    else:\n",
    "        print(f\"Warning: Filename {file_path} does not match pattern\")\n",
    "        return None\n",
    "\n",
    "# Get the list of file paths\n",
    "file_paths = glob.glob(rf'C:\\Users\\pana\\Desktop\\DATA\\ckw\\2021\\{season}\\*_{season}_data.csv') #location of spring season files\n",
    "file_paths = sorted(file_paths, key=extract_numeric_part)\n",
    "print(file_paths)\n"
   ]
  },
  {
   "cell_type": "code",
   "execution_count": 15,
   "metadata": {},
   "outputs": [],
   "source": [
    "def day_avg_preprocess(df, timestamp_range):\n",
    "    \n",
    "    \"\"\"\n",
    "    Preprocess the input dataframe by converting the 'timestamp' column to date, \n",
    "    calculating the daily average of 'value_kwh', and filtering based on a timestamp range.\n",
    "\n",
    "    Parameters:\n",
    "    - df: DataFrame containing a 'timestamp' column and 'value_kwh' column.\n",
    "    - timestamp_range: Tuple or list of two timestamps representing the start and end date range (inclusive).\n",
    "\n",
    "    Returns:\n",
    "    - day_avg: DataFrame containing the day-average of 'value_kwh' within the specified range sorted by date\n",
    "    \"\"\"\n",
    "    # Convert the 'timestamp' column to date format\n",
    "    df = df.with_columns(\n",
    "        pl.col(\"timestamp\").str.strptime(pl.Date, \"%Y-%m-%dT%H:%M:%S.%fZ\").alias(\"date\")\n",
    "        )\n",
    "\n",
    "    # Calculate daily average\n",
    "    day_avg = df.group_by(\"date\").agg(\n",
    "        pl.col(\"value_kwh\").mean().alias(\"day_avg_kwh\")\n",
    "    )\n",
    "\n",
    "    # Sort by date and filter by timestamp range\n",
    "    day_avg = day_avg.sort(\"date\").filter(pl.col(\"date\").is_in(timestamp_range))\n",
    "\n",
    "    # Processed data can be saved, printed, or returned here as needed\n",
    "    return day_avg\n"
   ]
  },
  {
   "cell_type": "code",
   "execution_count": 16,
   "metadata": {},
   "outputs": [
    {
     "name": "stdout",
     "output_type": "stream",
     "text": [
      "spring day-averaged files generated 0 of 5\n"
     ]
    },
    {
     "name": "stderr",
     "output_type": "stream",
     "text": [
      "C:\\Users\\pana\\AppData\\Local\\Temp\\ipykernel_7396\\4130778407.py:16: ChronoFormatWarning: Detected the pattern `.%f` in the chrono format string. This pattern should not be used to parse values after a decimal point. Use `%.f` instead. See the full specification: https://docs.rs/chrono/latest/chrono/format/strftime\n",
      "  pl.col(\"timestamp\").str.strptime(pl.Date, \"%Y-%m-%dT%H:%M:%S.%fZ\").alias(\"date\")\n"
     ]
    }
   ],
   "source": [
    "# Define the output directory\n",
    "output_dir = Path(r'C:\\Users\\pana\\Desktop\\DATA\\ckw\\2022\\day_avg')\n",
    "output_dir.mkdir(parents=True, exist_ok=True)  # Create if it doesn't exist\n",
    "\n",
    "for idx, file_path in enumerate(file_paths):\n",
    "    # Read the data\n",
    "    df = pl.read_csv(file_path)\n",
    "\n",
    "    day_avg= day_avg_preprocess(df,timestamp_range)\n",
    "\n",
    "    # Save the daily average to a CSV file\n",
    "    output_file = os.path.join(output_dir, f\"{idx}_day_avg_data.csv\")\n",
    "    \n",
    "    day_avg.write_csv(output_file)\n",
    "    \n",
    "    if idx%1000 ==0:\n",
    "        print(f\"{season} day-averaged files generated {idx} of {len(file_paths)}\")"
   ]
  },
  {
   "cell_type": "code",
   "execution_count": 17,
   "metadata": {},
   "outputs": [
    {
     "name": "stdout",
     "output_type": "stream",
     "text": [
      "[WindowsPath('C:/Users/pana/Desktop/DATA/ckw/2022/day_avg/0_day_avg_data.csv')]\n"
     ]
    }
   ],
   "source": [
    "def extract_numeric_part(file_path):\n",
    "    match = re.search(rf'(\\d+)_day_avg_data\\.csv', file_path.name)\n",
    "    if match:\n",
    "        return int(match.group(1))\n",
    "    else:\n",
    "        print(f\"Warning: Filename {file_path} does not match pattern\")\n",
    "        return None\n",
    "\n",
    "# Get the list of file paths\n",
    "file_paths = list(output_dir.glob('*_day_avg_data.csv')) #same path as previous cell\n",
    "file_paths = sorted(file_paths, key=extract_numeric_part)\n",
    "print(file_paths[:5])"
   ]
  },
  {
   "cell_type": "markdown",
   "metadata": {},
   "source": [
    "## Adding summer values to the existing day-averaged spring values"
   ]
  },
  {
   "cell_type": "code",
   "execution_count": 18,
   "metadata": {},
   "outputs": [
    {
     "name": "stdout",
     "output_type": "stream",
     "text": [
      "['C:\\\\Users\\\\pana\\\\Desktop\\\\DATA\\\\ckw\\\\2021\\\\summer\\\\0_summer_data.csv', 'C:\\\\Users\\\\pana\\\\Desktop\\\\DATA\\\\ckw\\\\2021\\\\summer\\\\1_summer_data.csv', 'C:\\\\Users\\\\pana\\\\Desktop\\\\DATA\\\\ckw\\\\2021\\\\summer\\\\2_summer_data.csv', 'C:\\\\Users\\\\pana\\\\Desktop\\\\DATA\\\\ckw\\\\2021\\\\summer\\\\3_summer_data.csv', 'C:\\\\Users\\\\pana\\\\Desktop\\\\DATA\\\\ckw\\\\2021\\\\summer\\\\4_summer_data.csv']\n"
     ]
    }
   ],
   "source": [
    "season= \"summer\"\n",
    "timestamp_range = season_ranges[season]\n",
    "def extract_numeric_part(file_path):\n",
    "    match = re.search(rf'(\\d+)_{season}_data\\.csv', file_path)\n",
    "    if match:\n",
    "        return int(match.group(1))\n",
    "    else:\n",
    "        print(f\"Warning: Filename {file_path} does not match pattern\")\n",
    "        return None\n",
    "    \n",
    "#path were summer season files are\n",
    "toadd_file_paths = glob.glob(rf'C:\\Users\\pana\\Desktop\\DATA\\ckw\\2021\\{season}\\*_{season}_data.csv')\n",
    "toadd_file_paths = sorted(toadd_file_paths, key=extract_numeric_part)\n",
    "print(toadd_file_paths[:5])"
   ]
  },
  {
   "cell_type": "code",
   "execution_count": 19,
   "metadata": {},
   "outputs": [
    {
     "name": "stdout",
     "output_type": "stream",
     "text": [
      "summer day-average files add to existing day-avg file 0 of 1\n"
     ]
    },
    {
     "name": "stderr",
     "output_type": "stream",
     "text": [
      "C:\\Users\\pana\\AppData\\Local\\Temp\\ipykernel_7396\\4130778407.py:16: ChronoFormatWarning: Detected the pattern `.%f` in the chrono format string. This pattern should not be used to parse values after a decimal point. Use `%.f` instead. See the full specification: https://docs.rs/chrono/latest/chrono/format/strftime\n",
      "  pl.col(\"timestamp\").str.strptime(pl.Date, \"%Y-%m-%dT%H:%M:%S.%fZ\").alias(\"date\")\n"
     ]
    }
   ],
   "source": [
    "def append_day_avg(existing_file_path, summer_file_path):\n",
    "    # Load existing data into a Polars DataFrame\n",
    "    existing_data = pl.read_csv(existing_file_path)\n",
    "    existing_data = existing_data.with_columns(\n",
    "    pl.col(\"date\").str.strptime(pl.Date, \"%Y-%m-%d\").alias(\"date\")\n",
    "    )\n",
    "   \n",
    "    summer_file = pl.read_csv(summer_file_path)\n",
    "    \n",
    "    # Load summer data\n",
    "    table_summer = day_avg_preprocess(summer_file,timestamp_range)\n",
    "   \n",
    "    # Ensure columns match between existing_data and pivot_table_summer\n",
    "    existing_data = existing_data.select(table_summer.columns)\n",
    "    #print(table_summer,existing_data)\n",
    "    # Concatenate existing data with summer pivot_table\n",
    "    concatenated_data = pl.concat([existing_data, table_summer])\n",
    "\n",
    "    # Return the concatenated DataFrame\n",
    "    return concatenated_data\n",
    "\n",
    "for idx,file_path in enumerate(file_paths):\n",
    "   \n",
    "    existing_file = file_path\n",
    "    #print(pl.read_csv(existing_file))\n",
    "    summer_file = toadd_file_paths[idx]\n",
    "    #print(summer_file,existing_file)\n",
    "    result = append_day_avg(existing_file, summer_file)\n",
    "\n",
    "    # Print or save the result\n",
    "    output_file = os.path.join(output_dir, f\"{idx}_day_avg_data.csv\")\n",
    "    result.write_csv(output_file)\n",
    "\n",
    "    if idx%1000 ==0:\n",
    "        print(f\"{season} day-average files add to existing day-avg file {idx} of {len(file_paths)}\")"
   ]
  },
  {
   "cell_type": "markdown",
   "metadata": {},
   "source": [
    "## Adding Autumn"
   ]
  },
  {
   "cell_type": "code",
   "execution_count": 20,
   "metadata": {},
   "outputs": [
    {
     "name": "stdout",
     "output_type": "stream",
     "text": [
      "['C:\\\\Users\\\\pana\\\\Desktop\\\\DATA\\\\ckw\\\\2021\\\\autumn\\\\0_autumn_data.csv', 'C:\\\\Users\\\\pana\\\\Desktop\\\\DATA\\\\ckw\\\\2021\\\\autumn\\\\1_autumn_data.csv', 'C:\\\\Users\\\\pana\\\\Desktop\\\\DATA\\\\ckw\\\\2021\\\\autumn\\\\2_autumn_data.csv', 'C:\\\\Users\\\\pana\\\\Desktop\\\\DATA\\\\ckw\\\\2021\\\\autumn\\\\3_autumn_data.csv', 'C:\\\\Users\\\\pana\\\\Desktop\\\\DATA\\\\ckw\\\\2021\\\\autumn\\\\4_autumn_data.csv']\n",
      "autumn weekday files add to existing day-avg file 0 of 1\n"
     ]
    },
    {
     "name": "stderr",
     "output_type": "stream",
     "text": [
      "C:\\Users\\pana\\AppData\\Local\\Temp\\ipykernel_7396\\4130778407.py:16: ChronoFormatWarning: Detected the pattern `.%f` in the chrono format string. This pattern should not be used to parse values after a decimal point. Use `%.f` instead. See the full specification: https://docs.rs/chrono/latest/chrono/format/strftime\n",
      "  pl.col(\"timestamp\").str.strptime(pl.Date, \"%Y-%m-%dT%H:%M:%S.%fZ\").alias(\"date\")\n"
     ]
    }
   ],
   "source": [
    "season= \"autumn\"\n",
    "timestamp_range = season_ranges[season]\n",
    "def extract_numeric_part(file_path):\n",
    "    match = re.search(rf'(\\d+)_{season}_data\\.csv', file_path)\n",
    "    if match:\n",
    "        return int(match.group(1))\n",
    "    else:\n",
    "        print(f\"Warning: Filename {file_path} does not match pattern\")\n",
    "        return None\n",
    "    \n",
    "#path were summer season files are\n",
    "toadd_file_paths = glob.glob(rf'C:\\Users\\pana\\Desktop\\DATA\\ckw\\2021\\{season}\\*_{season}_data.csv')\n",
    "toadd_file_paths = sorted(toadd_file_paths, key=extract_numeric_part)\n",
    "print(toadd_file_paths[:5])\n",
    "\n",
    "for idx,file_path in enumerate(file_paths):\n",
    "   \n",
    "    existing_file = file_path\n",
    "    #print(pl.read_csv(existing_file))\n",
    "    summer_file = toadd_file_paths[idx]\n",
    "    #print(summer_file,existing_file)\n",
    "    result = append_day_avg(existing_file, summer_file)\n",
    "\n",
    "    # Print or save the result\n",
    "    output_file = os.path.join(output_dir, f\"{idx}_day_avg_data.csv\")\n",
    "    result.write_csv(output_file)\n",
    "\n",
    "    if idx%1000 ==0:\n",
    "        print(f\"{season} weekday files add to existing day-avg file {idx} of {len(file_paths)}\")"
   ]
  },
  {
   "cell_type": "markdown",
   "metadata": {},
   "source": [
    "## Adding Winter"
   ]
  },
  {
   "cell_type": "code",
   "execution_count": 21,
   "metadata": {},
   "outputs": [
    {
     "name": "stdout",
     "output_type": "stream",
     "text": [
      "['C:\\\\Users\\\\pana\\\\Desktop\\\\DATA\\\\ckw\\\\2021\\\\winter\\\\0_winter_data.csv', 'C:\\\\Users\\\\pana\\\\Desktop\\\\DATA\\\\ckw\\\\2021\\\\winter\\\\1_winter_data.csv', 'C:\\\\Users\\\\pana\\\\Desktop\\\\DATA\\\\ckw\\\\2021\\\\winter\\\\2_winter_data.csv', 'C:\\\\Users\\\\pana\\\\Desktop\\\\DATA\\\\ckw\\\\2021\\\\winter\\\\3_winter_data.csv', 'C:\\\\Users\\\\pana\\\\Desktop\\\\DATA\\\\ckw\\\\2021\\\\winter\\\\4_winter_data.csv']\n",
      "winter weekday files add to existing day-avg file 0 of 1\n"
     ]
    },
    {
     "name": "stderr",
     "output_type": "stream",
     "text": [
      "C:\\Users\\pana\\AppData\\Local\\Temp\\ipykernel_7396\\4130778407.py:16: ChronoFormatWarning: Detected the pattern `.%f` in the chrono format string. This pattern should not be used to parse values after a decimal point. Use `%.f` instead. See the full specification: https://docs.rs/chrono/latest/chrono/format/strftime\n",
      "  pl.col(\"timestamp\").str.strptime(pl.Date, \"%Y-%m-%dT%H:%M:%S.%fZ\").alias(\"date\")\n"
     ]
    }
   ],
   "source": [
    "season= \"winter\"\n",
    "timestamp_range = season_ranges[season]\n",
    "def extract_numeric_part(file_path):\n",
    "    match = re.search(rf'(\\d+)_{season}_data\\.csv', file_path)\n",
    "    if match:\n",
    "        return int(match.group(1))\n",
    "    else:\n",
    "        print(f\"Warning: Filename {file_path} does not match pattern\")\n",
    "        return None\n",
    "    \n",
    "#path were summer season files are\n",
    "toadd_file_paths = glob.glob(rf'C:\\Users\\pana\\Desktop\\DATA\\ckw\\2021\\{season}\\*_{season}_data.csv')\n",
    "toadd_file_paths = sorted(toadd_file_paths, key=extract_numeric_part)\n",
    "print(toadd_file_paths[:5])\n",
    "\n",
    "for idx,file_path in enumerate(file_paths):\n",
    "   \n",
    "    existing_file = file_path\n",
    "    #print(pl.read_csv(existing_file))\n",
    "    summer_file = toadd_file_paths[idx]\n",
    "    #print(summer_file,existing_file)\n",
    "    result = append_day_avg(existing_file, summer_file)\n",
    "\n",
    "    # Print or save the result\n",
    "    output_file = os.path.join(output_dir, f\"{idx}_day_avg_data.csv\")\n",
    "    result.write_csv(output_file)\n",
    "\n",
    "    if idx%1000 ==0:\n",
    "        print(f\"{season} weekday files add to existing day-avg file {idx} of {len(file_paths)}\")"
   ]
  },
  {
   "cell_type": "markdown",
   "metadata": {},
   "source": [
    "# Normalizing"
   ]
  },
  {
   "cell_type": "code",
   "execution_count": 24,
   "metadata": {},
   "outputs": [],
   "source": [
    "def normalize(df):\n",
    "    \"\"\" This function normalized the energy consumed with the maximum energy consumed in a day as saves\n",
    "        it column named \"normalized_kwh\"        \"\"\"\n",
    "    \n",
    "    max_df= df.select(pl.max(\"day_avg_kwh\"))\n",
    "    max_df= max_df['day_avg_kwh'][0]\n",
    "    #print(max_df)\n",
    "    if max_df ==0:\n",
    "        df = df.with_columns(\n",
    "            normalized_kwh = pl.col(\"day_avg_kwh\")\n",
    "        )\n",
    "    else:\n",
    "        df = df.with_columns(\n",
    "            normalized_kwh = pl.col(\"day_avg_kwh\")/max_df\n",
    "        )\n",
    "\n",
    "    df = df.sort(\"date\")\n",
    "    return df"
   ]
  },
  {
   "cell_type": "code",
   "execution_count": 25,
   "metadata": {},
   "outputs": [
    {
     "name": "stdout",
     "output_type": "stream",
     "text": [
      "winter weekday files add to existing day-avg file 0 of 1\n"
     ]
    }
   ],
   "source": [
    "for idx,file_path in enumerate(file_paths):\n",
    "   \n",
    "    df = pl.read_csv(file_path)\n",
    "    normalized_df = normalize(df)\n",
    "\n",
    "    # Print or save the result\n",
    "    output_file = os.path.join(output_dir, f\"{idx}_day_avg_data.csv\")\n",
    "    normalized_df.write_csv(output_file)\n",
    "\n",
    "    if idx%1000 ==0:\n",
    "        print(f\"{season} weekday files add to existing day-avg file {idx} of {len(file_paths)}\")\n",
    "\n",
    "print(\"Day-averaged profiles created\")"
   ]
  }
 ],
 "metadata": {
  "kernelspec": {
   "display_name": "trial",
   "language": "python",
   "name": "python3"
  },
  "language_info": {
   "codemirror_mode": {
    "name": "ipython",
    "version": 3
   },
   "file_extension": ".py",
   "mimetype": "text/x-python",
   "name": "python",
   "nbconvert_exporter": "python",
   "pygments_lexer": "ipython3",
   "version": "3.8.19"
  }
 },
 "nbformat": 4,
 "nbformat_minor": 2
}
