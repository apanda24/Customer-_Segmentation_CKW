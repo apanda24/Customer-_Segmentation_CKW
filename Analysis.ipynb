{
 "cells": [
  {
   "cell_type": "markdown",
   "metadata": {},
   "source": [
    "# Analysis\n",
    "\n",
    "This file contains all the code for analysing the data"
   ]
  },
  {
   "cell_type": "code",
   "execution_count": 1,
   "metadata": {},
   "outputs": [],
   "source": [
    "import polars as pl\n",
    "import numpy as np\n",
    "import matplotlib.pyplot as plt\n",
    "import glob\n",
    "import re"
   ]
  },
  {
   "cell_type": "markdown",
   "metadata": {},
   "source": [
    "## Minimum/ Maximum energy consumed in 15 mins per season\n"
   ]
  },
  {
   "cell_type": "code",
   "execution_count": null,
   "metadata": {},
   "outputs": [],
   "source": [
    "# Function to extract numeric part from file name\n",
    "season=\"spring\"\n",
    "def extract_numeric_part(file_path):\n",
    "    match = re.search(rf'(\\d+)_{season}_data\\.csv', file_path)\n",
    "    if match:\n",
    "        return int(match.group(1))\n",
    "    else:\n",
    "        print(f\"Warning: Filename {file_path} does not match pattern\")\n",
    "        return None\n",
    "\n",
    "# Get the list of file paths\n",
    "file_paths = glob.glob(rf'C:\\Users\\pana\\Desktop\\DATA\\ckw\\2021\\{season}\\*_{season}_data.csv')\n",
    "file_paths = sorted(file_paths, key=extract_numeric_part)\n",
    "print(file_paths[:2])"
   ]
  },
  {
   "cell_type": "code",
   "execution_count": null,
   "metadata": {},
   "outputs": [],
   "source": [
    "min_max_df= pl.DataFrame()\n",
    "\n",
    "for i,file_path in enumerate(file_paths):\n",
    "    #print(i)\n",
    "    df=pl.read_csv(file_path)\n",
    "    df1=pl.DataFrame({\"min_values\": df.select(pl.min(\"value_kwh\")),\n",
    "                      \"max_values\": df.select(pl.max(\"value_kwh\")),\n",
    "                      \"mean_values\": df.select(pl.mean(\"value_kwh\"))})\n",
    "    min_max_df=pl.concat([min_max_df,df1])\n",
    "#print(min_max_df)\n",
    "min_max_df = min_max_df.with_row_index()\n",
    "min_max_df = min_max_df.rename({\"index\" : \"House_no\"})\n",
    "print(min_max_df)"
   ]
  },
  {
   "cell_type": "markdown",
   "metadata": {},
   "source": [
    "## Total Household Consumption"
   ]
  },
  {
   "cell_type": "code",
   "execution_count": null,
   "metadata": {},
   "outputs": [],
   "source": [
    "# Function to extract numeric part from file name\n",
    "season=\"winter\"\n",
    "def extract_numeric_part(file_path):\n",
    "    match = re.search(rf'(\\d+)_{season}_data\\.csv', file_path)\n",
    "    if match:\n",
    "        return int(match.group(1))\n",
    "    else:\n",
    "        print(f\"Warning: Filename {file_path} does not match pattern\")\n",
    "        return None\n",
    "\n",
    "# Get the list of file paths\n",
    "file_paths = glob.glob(rf'C:\\Users\\pana\\Desktop\\DATA\\ckw\\2021\\{season}\\*_{season}_data.csv')\n",
    "file_paths = sorted(file_paths, key=extract_numeric_part)\n",
    "total_array=np.array([])\n",
    "\n",
    "for idx, file_path in enumerate(file_paths):\n",
    "    \n",
    "    df= pl.read_csv(file_path)\n",
    "    value= df.select(pl.sum(\"value_kwh\")) # calculating the total energy consumed in the season\n",
    "    total_array= np.append(total_array,value)\n",
    "    if idx%1000 == 0:\n",
    "        print(f\"Total household consumption in {season} for {idx} of {len(file_paths)} done\")\n",
    "\n",
    "x = pl.Series(f\"total_{season}_consumption(kWh)\",total_array)\n",
    "min_max_modified_df =min_max_df.hstack([x])\n",
    "print(min_max_modified_df)\n",
    "min_max_modified_df.write_csv(rf'C:\\Users\\pana\\Desktop\\DATA\\ckw\\min_max_{season}_full.csv')\n"
   ]
  },
  {
   "cell_type": "markdown",
   "metadata": {},
   "source": [
    "## Outlier\n",
    "\n",
    "create a min_max_full.csv file containing the peak and total yearly consumption of the household using the previous code."
   ]
  },
  {
   "cell_type": "code",
   "execution_count": null,
   "metadata": {},
   "outputs": [],
   "source": [
    "outliers = np.array([])\n",
    "\n",
    "#min_max_df= pl.read_csv(rf'C:\\Users\\pana\\Desktop\\DATA\\ckw\\min_max__full.csv')\n",
    "#houses with peak energy consumption of 0 kwh or over 10 kwh or total yearly consumption > 25000 kwh are considered outliers\n",
    "for i in range(53860):\n",
    "    if min_max_df[i][\"peak\"][0] ==0 or min_max_df[i][\"peak\"][0] > 10 or min_max_df[i][\"total_yearly_consmption\"][0] > 25000:\n",
    "        out = i\n",
    "        outliers= np.append(outliers, out)\n",
    "    \n",
    "print(outliers)\n",
    "outliers_df = pl.DataFrame(outliers)\n",
    "outliers_df.write_csv(rf'C:\\Users\\pana\\Desktop\\DATA\\ckw\\outlier.csv')"
   ]
  },
  {
   "cell_type": "markdown",
   "metadata": {},
   "source": [
    "## Peak vs Total Yearly Consumption plot"
   ]
  },
  {
   "cell_type": "code",
   "execution_count": null,
   "metadata": {},
   "outputs": [],
   "source": [
    "import matplotlib.pyplot as plt\n",
    "\n",
    "plt.figure(figsize= [8,5])\n",
    "plt.scatter(df['total_yearly_consmption'], df['peak'],marker = \".\", s = 5, label= 'Smart Meter Data')\n",
    "plt.title(\" Peak v/s Total Annual Consumption \")\n",
    "plt.suptitle(f\"Number of records {len(df)}\")\n",
    "plt.xscale(\"log\")\n",
    "plt.yscale(\"log\")\n",
    "plt.legend()\n",
    "plt.legend(loc='upper left', bbox_to_anchor=(1, 1))\n",
    "plt.xlabel(\"Total Annual Consumption (kWh)\")\n",
    "plt.ylabel(\"Peak Consumption (kWh)\")"
   ]
  }
 ],
 "metadata": {
  "kernelspec": {
   "display_name": "trial",
   "language": "python",
   "name": "python3"
  },
  "language_info": {
   "codemirror_mode": {
    "name": "ipython",
    "version": 3
   },
   "file_extension": ".py",
   "mimetype": "text/x-python",
   "name": "python",
   "nbconvert_exporter": "python",
   "pygments_lexer": "ipython3",
   "version": "3.8.19"
  }
 },
 "nbformat": 4,
 "nbformat_minor": 2
}
